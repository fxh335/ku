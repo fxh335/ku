{
 "cells": [
  {
   "cell_type": "code",
   "execution_count": null,
   "id": "53544529-a4d3-4f2d-bb79-cc82a900aff1",
   "metadata": {},
   "outputs": [],
   "source": [
    "pip install -i https://mirrors.tuna.tsinghua.edu.cn/pypi/web/simple some-package"
   ]
  },
  {
   "cell_type": "code",
   "execution_count": 1,
   "id": "b43a5351-db67-4b0a-8ae3-a6a55f07e141",
   "metadata": {},
   "outputs": [
    {
     "name": "stdout",
     "output_type": "stream",
     "text": [
      "VideoObject(id='29681733491963254-9176242294982046081', model='cogvideox', video_result=None, task_status='PROCESSING', request_id='-9176242294982046082')\n"
     ]
    }
   ],
   "source": [
    "from zhipuai import ZhipuAI\n",
    "client=ZhipuAI(api_key=\"82c0441a6f9235c15b02dabe00af3efa.JMj2OgRK60aPJzBH\")#自己的key\n",
    "\n",
    "response=client.videos.generations(\n",
    "    model=\"cogvideox\",\n",
    "    prompt=\"放学等我\"#输入想生成的视频内容\n",
    ")\n",
    "print(response)\n",
    "#获取id"
   ]
  },
  {
   "cell_type": "code",
   "execution_count": 2,
   "id": "1c0a00b3-d572-4907-96fc-b01f637d144b",
   "metadata": {},
   "outputs": [
    {
     "name": "stdout",
     "output_type": "stream",
     "text": [
      "VideoObject(id=None, model='cogvideox', video_result=[VideoResult(url='https://aigc-files.bigmodel.cn/api/cogvideo/c93406d0-b3d6-11ef-9d2e-6a6b9fbd524e_0.mp4', cover_image_url='https://aigc-files.bigmodel.cn/api/cogvideo/c93406d0-b3d6-11ef-9d2e-6a6b9fbd524e_cover_0.jpeg')], task_status='SUCCESS', request_id='-9176242294982046082')\n"
     ]
    }
   ],
   "source": [
    "from zhipuai import ZhipuAI\n",
    "client=ZhipuAI(api_key=\"82c0441a6f9235c15b02dabe00af3efa.JMj2OgRK60aPJzBH\")#自己的key\n",
    "\n",
    "response=client.videos.retrieve_videos_result(\n",
    "    id=\"29681733491963254-9176242294982046081\"\n",
    ")\n",
    "print(response)"
   ]
  },
  {
   "cell_type": "code",
   "execution_count": null,
   "id": "2352019d-c4ad-4541-b202-3c2e6068d191",
   "metadata": {},
   "outputs": [],
   "source": []
  }
 ],
 "metadata": {
  "kernelspec": {
   "display_name": "Python 3 (ipykernel)",
   "language": "python",
   "name": "python3"
  },
  "language_info": {
   "codemirror_mode": {
    "name": "ipython",
    "version": 3
   },
   "file_extension": ".py",
   "mimetype": "text/x-python",
   "name": "python",
   "nbconvert_exporter": "python",
   "pygments_lexer": "ipython3",
   "version": "3.11.7"
  }
 },
 "nbformat": 4,
 "nbformat_minor": 5
}
