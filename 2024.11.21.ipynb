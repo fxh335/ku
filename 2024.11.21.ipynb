{
 "cells": [
  {
   "cell_type": "code",
   "execution_count": 3,
   "id": "2352019d-c4ad-4541-b202-3c2e6068d191",
   "metadata": {},
   "outputs": [
    {
     "name": "stdout",
     "output_type": "stream",
     "text": [
      "VideoObject(id='29681733491963254-9176235388672536726', model='cogvideox', video_result=None, task_status='PROCESSING', request_id='-9176235388672536727')\n"
     ]
    }
   ],
   "source": [
    "from zhipuai import ZhipuAI\n",
    "client=ZhipuAI(api_key=\"82c0441a6f9235c15b02dabe00af3efa.JMj2OgRK60aPJzBH\")#自己的key\n",
    "\n",
    "response=client.videos.generations(\n",
    "    model=\"cogvideox\",\n",
    "    image_url=\"https://img.shetu66.com/2023/03/23/1679552742807195.jpg\",\n",
    "    prompt=\"人物动起来\"#输入想生成的视频内容\n",
    ")\n",
    "print(response)\n",
    "#获取id"
   ]
  },
  {
   "cell_type": "code",
   "execution_count": 5,
   "id": "bf28293c-d4e0-48f3-a776-b0b9c2b29785",
   "metadata": {},
   "outputs": [
    {
     "name": "stdout",
     "output_type": "stream",
     "text": [
      "VideoObject(id=None, model='cogvideox', video_result=[VideoResult(url='https://aigc-files.bigmodel.cn/api/cogvideo/ea643714-b3d9-11ef-9af3-82db61599628_0.mp4', cover_image_url='https://aigc-files.bigmodel.cn/api/cogvideo/ea643714-b3d9-11ef-9af3-82db61599628_cover_0.jpeg')], task_status='SUCCESS', request_id='-9176235388672536727')\n"
     ]
    }
   ],
   "source": [
    "from zhipuai import ZhipuAI\n",
    "client=ZhipuAI(api_key=\"82c0441a6f9235c15b02dabe00af3efa.JMj2OgRK60aPJzBH\")#自己的key\n",
    "\n",
    "response=client.videos.retrieve_videos_result(\n",
    "    id=\"29681733491963254-9176235388672536726\"\n",
    ")\n",
    "print(response)"
   ]
  },
  {
   "cell_type": "code",
   "execution_count": 6,
   "id": "28555198-be8b-45f1-9974-678c3699bb7b",
   "metadata": {},
   "outputs": [],
   "source": [
    "import os\n",
    "from zhipuai import ZhipuAI\n",
    "import base64 \n",
    "os.environ[\"ZHIPUAI_API_KEY\"]=\"82c0441a6f9235c15b02dabe00af3efa.JMj2OgRK60aPJzBH\"\n",
    "client=ZhipuAI()"
   ]
  },
  {
   "cell_type": "code",
   "execution_count": 8,
   "id": "e86bb71a-f0c3-486c-8cf2-e61677955c1a",
   "metadata": {},
   "outputs": [
    {
     "name": "stdout",
     "output_type": "stream",
     "text": [
      "视频响应较长等待数十秒\n",
      "CompletionMessage(content='中，一个穿着灰色上衣的短发女人背对着镜头，她抱着一个穿着绿色上衣的小男孩，小男孩的右手抱着一个穿着白色上衣的布偶，他们从画面中间的门中走出，画面右边，一个穿着蓝色外套的男人背对着镜头，他正准备从门中走进去，画面切换，一个穿着绿色上衣的短发女人背对着镜头，她抱着一个穿着绿色上衣的小男孩，小男孩的右手抱着一个穿着白色上衣的布偶，他们从画面中间的门中走出，画面右边，一个穿着蓝色外套的男人背对着镜头，他正准备从门中走进去，画面切换，画面中，一个穿着绿色上衣的短发女人背对着镜头，她抱着一个穿着绿色上衣的小男孩，小男孩的右手抱着一个穿着白色上衣的布偶，他们从画面中间的门中走出，画面右边，一个穿着蓝色外套的男人背对着镜头，他正准备从门中走进去。', role='assistant', tool_calls=None)\n"
     ]
    }
   ],
   "source": [
    "video_path=r\"C:\\Users\\Administrator\\Desktop\\动漫ai.mp4\"#视频文件路径\n",
    "with open(video_path,'rb') as video_file:\n",
    "    video_base=base64.b64encode(video_file.read()).decode('utf-8')\n",
    "    \n",
    "print(\"视频响应较长等待数十秒\")\n",
    "\n",
    "response=client.chat.completions.create(#直接调补全接口\n",
    "    model=\"glm-4v-plus\",\n",
    "    temperature=0.0,\n",
    "    top_p=0,\n",
    "    \n",
    "    messages=[{\n",
    "        \"role\":\"user\",\n",
    "        \"content\":[{\n",
    "            \"type\":\"video_url\",\n",
    "            \"video_url\":{\"url\":video_base}\n",
    "        },{\n",
    "            \"type\":\"text\",\n",
    "            \"text\":\"仔细描述该视频内容\"\n",
    "        }]\n",
    "    }]\n",
    "\n",
    "\n",
    "\n",
    ")\n",
    "print(response.choices[0].message)"
   ]
  },
  {
   "cell_type": "code",
   "execution_count": null,
   "id": "a8a9bfc9-ba9b-4e77-9481-1aa11185e869",
   "metadata": {},
   "outputs": [],
   "source": []
  }
 ],
 "metadata": {
  "kernelspec": {
   "display_name": "Python 3 (ipykernel)",
   "language": "python",
   "name": "python3"
  },
  "language_info": {
   "codemirror_mode": {
    "name": "ipython",
    "version": 3
   },
   "file_extension": ".py",
   "mimetype": "text/x-python",
   "name": "python",
   "nbconvert_exporter": "python",
   "pygments_lexer": "ipython3",
   "version": "3.11.7"
  }
 },
 "nbformat": 4,
 "nbformat_minor": 5
}
